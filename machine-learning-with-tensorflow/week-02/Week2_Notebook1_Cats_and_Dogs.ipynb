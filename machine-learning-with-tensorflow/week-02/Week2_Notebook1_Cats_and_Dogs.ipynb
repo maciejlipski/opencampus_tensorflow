{
  "cells": [
    {
      "cell_type": "markdown",
      "metadata": {
        "id": "kIBl4fxjCL-M"
      },
      "source": [
        "# Image Preprocessing and Binary Classification with Keras\n",
        "\n",
        "## Objective\n",
        "In this week's exercise, you will:\n",
        "1. Learn how to image preprocessing in keras.\n",
        "2. Build and train a multilayer neural network for binary classification on a real-world dataset of cats and dogs.\n",
        "\n",
        "---\n",
        "\n",
        "## Step 1: Import Libraries\n",
        "Let's start by importing the necessary libraries.\n"
      ]
    },
    {
      "cell_type": "code",
      "execution_count": 1,
      "metadata": {
        "id": "keXtDJE8CL-N"
      },
      "outputs": [],
      "source": [
        "import numpy as np\n",
        "import matplotlib.pyplot as plt\n",
        "import tensorflow as tf\n",
        "from tensorflow.keras.preprocessing.image import ImageDataGenerator\n",
        "from tensorflow.keras.models import Sequential\n",
        "from tensorflow.keras.layers import Conv2D, MaxPooling2D, Flatten, Dense, Dropout\n"
      ]
    },
    {
      "cell_type": "markdown",
      "metadata": {
        "id": "ONC17Xo6CL-O"
      },
      "source": [
        "---\n",
        "\n",
        "## Step 2: Load and Preprocess the Data\n",
        "We will use the Keras `ImageDataGenerator` for image augmentation and preprocessing.\n",
        "First, unzip the uploaded dataset.\n"
      ]
    },
    {
      "cell_type": "code",
      "execution_count": 6,
      "metadata": {
        "id": "1AEqeufzCL-P"
      },
      "outputs": [],
      "source": [
        "!unzip -q dogs-vs-cats/train.zip\n",
        "!unzip -q dogs-vs-cats/test1.zip"
      ]
    },
    {
      "cell_type": "code",
      "source": [
        "# Install opendatasets\n",
        "#!pip install opendatasets --quiet\n",
        "\n",
        "# Import the library\n",
        "import opendatasets as od\n",
        "\n",
        "# Download the Cats and Dogs dataset from Kaggle\n",
        "# Replace `kaggle-url` with the actual Kaggle URL for the dataset\n",
        "od.download(\"https://www.kaggle.com/c/dogs-vs-cats/data\")"
      ],
      "metadata": {
        "id": "KhPR9FlPCNfP",
        "outputId": "d1235a2d-7d25-4478-f569-375a5ca744a3",
        "colab": {
          "base_uri": "https://localhost:8080/"
        }
      },
      "execution_count": 5,
      "outputs": [
        {
          "output_type": "stream",
          "name": "stdout",
          "text": [
            "Please provide your Kaggle credentials to download this dataset. Learn more: http://bit.ly/kaggle-creds\n",
            "Your Kaggle username: maciejlipski\n",
            "Your Kaggle Key: ··········\n",
            "Downloading dogs-vs-cats.zip to ./dogs-vs-cats\n"
          ]
        },
        {
          "output_type": "stream",
          "name": "stderr",
          "text": [
            "100%|██████████| 812M/812M [00:11<00:00, 71.7MB/s]\n"
          ]
        },
        {
          "output_type": "stream",
          "name": "stdout",
          "text": [
            "\n",
            "Extracting archive ./dogs-vs-cats/dogs-vs-cats.zip to ./dogs-vs-cats\n"
          ]
        }
      ]
    },
    {
      "cell_type": "markdown",
      "metadata": {
        "id": "ZaedYeTBCL-P"
      },
      "source": [
        "## Step 3: Learn about undersampling and implement it\n",
        "Research online what undersampling and random undersampling is. It is a very powerful technique used often in machine Learning. Find out when it is used and undersample your dataset using \"random undersampling\"\n"
      ]
    },
    {
      "cell_type": "code",
      "execution_count": 7,
      "metadata": {
        "id": "qugjs-liCL-P",
        "outputId": "b6a53e43-7492-4812-d3e3-dfe9a588f8af",
        "colab": {
          "base_uri": "https://localhost:8080/"
        }
      },
      "outputs": [
        {
          "output_type": "stream",
          "name": "stdout",
          "text": [
            "Initial class distribution:\n",
            "label\n",
            "cat    12500\n",
            "dog    12500\n",
            "Name: count, dtype: int64\n",
            "Class distribution after undersampling:\n",
            "label\n",
            "dog    12500\n",
            "cat    12500\n",
            "Name: count, dtype: int64\n"
          ]
        }
      ],
      "source": [
        "import os\n",
        "import numpy as np\n",
        "import pandas as pd\n",
        "from sklearn.utils import resample\n",
        "from glob import glob\n",
        "\n",
        "# Define the path to the dataset (replace with your path)\n",
        "data_dir = 'train'\n",
        "\n",
        "# Load all image paths\n",
        "image_paths = glob(os.path.join(data_dir, '*.jpg'))\n",
        "\n",
        "# Create a DataFrame with image paths and labels\n",
        "df_cats_vs_dogs = pd.DataFrame({\n",
        "    'image_path': image_paths,\n",
        "    'label': ['dog' if 'dog' in os.path.basename(path) else 'cat' for path in image_paths]\n",
        "})\n",
        "\n",
        "# Check initial class distribution\n",
        "print(\"Initial class distribution:\")\n",
        "print(df_cats_vs_dogs['label'].value_counts())\n",
        "\n",
        "# Separate majority and minority classes\n",
        "majority_class = df_cats_vs_dogs[df_cats_vs_dogs['label'] == 'dog']\n",
        "minority_class = df_cats_vs_dogs[df_cats_vs_dogs['label'] == 'cat']\n",
        "\n",
        "# Perform random undersampling on the majority class\n",
        "majority_undersampled = resample(\n",
        "    majority_class,\n",
        "    replace=False,\n",
        "    n_samples=len(minority_class),  # Match the number of samples in the minority class\n",
        "    random_state=42\n",
        ")\n",
        "\n",
        "# Combine the undersampled majority class with the minority class\n",
        "df_undersampled = pd.concat([majority_undersampled, minority_class])\n",
        "\n",
        "# Shuffle the dataset\n",
        "df_undersampled = df_undersampled.sample(frac=1, random_state=42).reset_index(drop=True)\n",
        "\n",
        "# Check the new class distribution\n",
        "print(\"Class distribution after undersampling:\")\n",
        "print(df_undersampled['label'].value_counts())\n",
        "\n",
        "# Save the file paths and labels to a CSV if needed\n",
        "df_undersampled.to_csv('cats_vs_dogs_undersampled.csv', index=False)"
      ]
    },
    {
      "cell_type": "markdown",
      "metadata": {
        "id": "zyMsKIA0CL-Q"
      },
      "source": [
        "---\n",
        "\n",
        "## Step 4: Set Up ImageDataGenerator (or well more specifically the new version)\n",
        "Were Sorry - the videos from the coursera course are sometimes not the most up to date. In this case the 'ImageDataGenerator' function is deprecated (look here https://www.tensorflow.org/api_docs/python/tf/keras/preprocessing/image/ImageDataGenerator) and will be removed in the future versions. The concept behind the new reccomended function is very similar though.\n",
        "The new reccomendation is loading images with tf.keras.utils.image_dataset_from_directory and transforming the output tf.data.Dataset with preprocessing layers.\n",
        "\n",
        "You may use Chat GPT for this task and you can also check the following tutorials <br>\n",
        "https://www.tensorflow.org/tutorials/load_data/images <br>\n",
        "https://www.tensorflow.org/tutorials/load_data/images <br>\n",
        "https://www.tensorflow.org/guide/keras/preprocessing_layers <br>"
      ]
    },
    {
      "cell_type": "code",
      "execution_count": 12,
      "metadata": {
        "id": "oxkBez18CL-R"
      },
      "outputs": [],
      "source": []
    },
    {
      "cell_type": "markdown",
      "metadata": {
        "id": "RoUltXA7CL-R"
      },
      "source": [
        "---\n",
        "\n",
        "## Step 5: Build a Multilayer Neural Network\n",
        "Now, let's build a multilayer neural network for binary classification.\n"
      ]
    },
    {
      "cell_type": "code",
      "execution_count": null,
      "metadata": {
        "id": "pF4B1oK7CL-S"
      },
      "outputs": [],
      "source": [
        "# TODO build a model\n",
        "\n",
        "# TODO compile the model\n"
      ]
    },
    {
      "cell_type": "markdown",
      "metadata": {
        "id": "jtKpzYiuCL-S"
      },
      "source": [
        "---\n",
        "\n",
        "## Step 6: Train the Model\n",
        "Train the model using the Dataset you created\n"
      ]
    },
    {
      "cell_type": "code",
      "execution_count": null,
      "metadata": {
        "id": "L03-951eCL-T"
      },
      "outputs": [],
      "source": []
    },
    {
      "cell_type": "markdown",
      "metadata": {
        "id": "mxTtJ2phCL-T"
      },
      "source": [
        "---\n",
        "\n",
        "## Step 7: Evaluate the Model\n",
        "After training, you may upload some test images to evaluate your model.\n"
      ]
    },
    {
      "cell_type": "code",
      "execution_count": null,
      "metadata": {
        "id": "8RjvjEVCCL-U"
      },
      "outputs": [],
      "source": [
        "from tensorflow.keras.preprocessing import image\n",
        "import numpy as np\n",
        "from google.colab import files\n",
        "\n",
        "def load_and_predict(model):\n",
        "    uploaded_files = files.upload()\n",
        "\n",
        "    for fn in uploaded_files.keys():\n",
        "        path = '/content/' + fn\n",
        "        img = image.load_img(path, target_size=(150, 150))\n",
        "\n",
        "        x = image.img_to_array(img)\n",
        "        x = np.expand_dims(x, axis=0) / 255.0\n",
        "\n",
        "        classes = model.predict(x)\n",
        "        result = \"a dog\" if classes[0] > 0.5 else \"a cat\"\n",
        "\n",
        "        print(f'The model predicts that the image is of {result}')\n",
        "\n",
        "# Call the function to upload images and get predictions\n",
        "load_and_predict(model)"
      ]
    }
  ],
  "metadata": {
    "kernelspec": {
      "display_name": ".ve_tensorflow_course",
      "language": "python",
      "name": "python3"
    },
    "language_info": {
      "codemirror_mode": {
        "name": "ipython",
        "version": 3
      },
      "file_extension": ".py",
      "mimetype": "text/x-python",
      "name": "python",
      "nbconvert_exporter": "python",
      "pygments_lexer": "ipython3",
      "version": "3.10.10"
    },
    "colab": {
      "provenance": []
    }
  },
  "nbformat": 4,
  "nbformat_minor": 0
}